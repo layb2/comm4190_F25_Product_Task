{
 "cells": [
  {
   "cell_type": "markdown",
   "id": "0bd1181b-9cef-4200-b25e-7146182b1514",
   "metadata": {},
   "source": [
    "## Nomad Noodles"
   ]
  },
  {
   "cell_type": "markdown",
   "id": "0737683c-49a0-44a2-ba6c-272d7013f284",
   "metadata": {},
   "source": [
    "Prompts (Chat-GPT5):"
   ]
  },
  {
   "cell_type": "markdown",
   "id": "3df1e226-99c8-4093-bd90-f7df6622a446",
   "metadata": {},
   "source": [
    "> Design a main webpage with my product called \"Nomad Noodles\": this is what it looks like. Main Concept: Nomad Noodles transforms instant ramen from guilty-pleasure junk food into a premium, health-forward, globally inspired experience. It’s fast food made aspirational — crafted for modern explorers who crave flavor, culture, and convenience. Brand Story: Born from the spirit of travel, Nomad Noodles brings the world’s street food flavors to your bowl in just 3 minutes. Each recipe is a passport stamp — authentic, bold, and unforgettable. With premium ingredients, sleek packaging, and cultural storytelling, Nomad Noodles makes every meal a journey. Slogan: “Your passport to instant flavor.” Manifesto: We believe food is the fastest way to travel. In every bowl, there’s a story — of bustling streets, sizzling woks, and recipes passed through generations. Nomad Noodles exists to transform instant ramen into a passport of flavor. Three minutes is all it takes to go from Seoul to Mexico City, Mumbai to Napoli. We choose premium ingredients, bold global recipes, and design that celebrates culture. Because noodles should be more than cheap and forgettable — they should be an experience worth sharing. For the explorers, the creators, the wanderers: Nomad Noodles isn’t just a meal. It’s a journey. Make the website sleek and cool, to attract college-aged students."
   ]
  },
  {
   "cell_type": "markdown",
   "id": "140e85b1-b11a-4b37-9ce1-89453f7181d0",
   "metadata": {},
   "source": [
    "> Create a mockup of the website front page, only include the name of the product, the slogan, a photo of the product, and a very short version of the manifesto. For tabs on the website include \"Our Story\", \"Flavors\", \"Reviews\""
   ]
  },
  {
   "cell_type": "markdown",
   "id": "c6054635-ca43-40d0-9181-8954aea20d03",
   "metadata": {},
   "source": [
    "> include this logo, remove the period after Nomad Noodles, make the webpage more horizontal"
   ]
  },
  {
   "cell_type": "markdown",
   "id": "d15d9f1f-7e6e-4f8e-928b-b1851eeb6012",
   "metadata": {},
   "source": [
    "## Nourish"
   ]
  },
  {
   "cell_type": "markdown",
   "id": "9a49ca9b-449e-44d1-8a6b-c3c7f56ad9a6",
   "metadata": {},
   "source": [
    "Prompt (Google Gemini 2.5 Flash)\n",
    ":"
   ]
  },
  {
   "cell_type": "markdown",
   "id": "8e5a8b48-e3cc-4586-b81a-eee1c31c3eeb",
   "metadata": {},
   "source": [
    "> I'm trying to create a webpage for my new product: \n",
    ">\n",
    ">Homepage:\n",
    "Hero Section:\n",
    ">\n",
    ">High-quality image of a steaming bowl of Nourish ramen.\n",
    "Slogan: \"Nourish Your Adventure\"\n",
    "Call-to-action button: \"Shop Now\"\n",
    "Features Section:\n",
    ">\n",
    ">Headline: \"Discover Our Unique Blend\"\n",
    "Feature highlights with images:\n",
    "High-Protein Noodles: Made with pea protein.\n",
    "Nutrient-Rich Herbs: Infused with turmeric and cilantro.\n",
    "Classic Ramen Flavors: Spicy Miso and Teriyaki Chicken.\n",
    "Descriptives Section:\n",
    ">\n",
    ">Catchy headers:\n",
    "\"Protein-Packed Perfection\"\n",
    "\"Quick, Clean, Delicious\"\n",
    "\"Comfort Food Reinvented\"\n",
    "Testimonials Section:\n",
    "Consumer Reviews:\n",
    ">\n",
    ">Athlete: \"Nourish is my go-to meal for quick, powerful energy after a tough workout!\"\n",
    "Busy Professional: \"The perfect quick meal that fuels my long workdays without any guilt.\"\n",
    "Health Enthusiast: \"I love how Nourish combines rich flavor with incredible nutrition.\"\n",
    "Magazine Endorsement:\n",
    ">\n",
    ">\"A game-changer in convenience and nutrition, Nourish is redefining comfort food for active lifestyles.\"\n",
    ">\n",
    ">Call to Action:\n",
    "Subscription option: \"Subscribe & Save\"\n",
    "Special offers: \"First-time Buyer Discount: 10% Off\"\n",
    "Footer:\n",
    "Links to social media profiles\n",
    "Contact information\n",
    "FAQs\n",
    "Blog/News section for recipe ideas using Nourish ramen.\n",
    "This website layout integrates the refined features, descriptives, reviews, endorsements, and slogans to create a cohesive and engaging online presence.\n"
   ]
  },
  {
   "cell_type": "markdown",
   "id": "89080743-d490-4c36-8ae1-72d3c5667d4b",
   "metadata": {},
   "source": [
    "> can you incorporate this into the web design, create a photo of what the website will look like"
   ]
  },
  {
   "cell_type": "markdown",
   "id": "36bcb37c-c131-485e-ac9c-310e3ab0c5b3",
   "metadata": {},
   "source": [
    "> don't show it on a computer, just show a screenshot of the webpage"
   ]
  },
  {
   "cell_type": "markdown",
   "id": "4f9f7d42-a26c-4e76-85df-c610db41c5d4",
   "metadata": {},
   "source": [
    "> I like this, now can you add a header with \"Nourish\" and tabs that say \"About Us\", \"Products\", \"Shop Now\", and \"Reviews\". Make it sleek and appealing to college"
   ]
  },
  {
   "cell_type": "markdown",
   "id": "4718dc13-07ff-4365-a588-198e6a1b29e4",
   "metadata": {},
   "source": [
    "> great, now can you add the slogan somewhere and a concise descriptive"
   ]
  },
  {
   "cell_type": "markdown",
   "id": "718363ac-b41a-4385-8012-61f28aa1d6ec",
   "metadata": {},
   "source": [
    "> now create a reviews page with the same aesthetic with these reviews:\n",
    "Consumer Reviews:\n",
    "Athlete: \"Nourish is my go-to meal for quick, powerful energy after a tough workout!\"\n",
    "Company Manager: \"The perfect quick meal that fuels my long workdays without any guilt.\"\n",
    "Health Blogger: \"I love how Nourish combines rich flavor with incredible nutrition.\"\n",
    "People Magazine:\n",
    "\"A game-changer in convenience and nutrition, Nourish is redefining comfort food for active lifestyles.\""
   ]
  },
  {
   "cell_type": "code",
   "execution_count": null,
   "id": "bc79f20d-9f76-42c4-96f4-1d033b42347a",
   "metadata": {},
   "outputs": [],
   "source": []
  }
 ],
 "metadata": {
  "kernelspec": {
   "display_name": "Python 3-12 (COMM4190)",
   "language": "python",
   "name": "python3-12_comm4190"
  },
  "language_info": {
   "codemirror_mode": {
    "name": "ipython",
    "version": 3
   },
   "file_extension": ".py",
   "mimetype": "text/x-python",
   "name": "python",
   "nbconvert_exporter": "python",
   "pygments_lexer": "ipython3",
   "version": "3.12.11"
  }
 },
 "nbformat": 4,
 "nbformat_minor": 5
}
