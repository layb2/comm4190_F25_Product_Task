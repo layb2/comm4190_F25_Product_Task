{
 "cells": [
  {
   "cell_type": "markdown",
   "id": "05ed2a1a-08c7-4f75-9b0b-911f6078f23e",
   "metadata": {},
   "source": [
    "# Nourish"
   ]
  },
  {
   "cell_type": "markdown",
   "id": "dd9912c1-e228-4a0a-87cb-04b559c1c018",
   "metadata": {},
   "source": [
    "![](NourishWebpage.png)"
   ]
  },
  {
   "cell_type": "markdown",
   "id": "1fe06306-afd0-4a70-8422-531f9deded9f",
   "metadata": {},
   "source": [
    "![](NourishReview.png)"
   ]
  }
 ],
 "metadata": {
  "kernelspec": {
   "display_name": "Python 3-12 (COMM4190)",
   "language": "python",
   "name": "python3-12_comm4190"
  },
  "language_info": {
   "codemirror_mode": {
    "name": "ipython",
    "version": 3
   },
   "file_extension": ".py",
   "mimetype": "text/x-python",
   "name": "python",
   "nbconvert_exporter": "python",
   "pygments_lexer": "ipython3",
   "version": "3.12.11"
  }
 },
 "nbformat": 4,
 "nbformat_minor": 5
}
