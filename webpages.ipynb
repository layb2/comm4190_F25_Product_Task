{
 "cells": [
  {
   "cell_type": "markdown",
   "id": "5d7225f7-9687-42ae-a0b8-b926242e18ed",
   "metadata": {},
   "source": [
    "# Nomad Noodles"
   ]
  },
  {
   "cell_type": "markdown",
   "id": "e3c1fc8b-49ab-4f32-b867-a21221c2c6f8",
   "metadata": {},
   "source": [
    "![](NomadWebpage.png)"
   ]
  },
  {
   "cell_type": "code",
   "execution_count": 2,
   "id": "2edcd3ee-7f90-43ee-a7b1-a370bc042ce8",
   "metadata": {},
   "outputs": [
    {
     "data": {
      "text/html": [
       "\n",
       "<div style=\"font-family: sans-serif; background-color: #111; color: #f5f5f5; padding: 40px;\">\n",
       "  <h2 style=\"text-align:center; color: #d4af37; font-size: 2em; margin-bottom: 30px;\">What People Are Saying</h2>\n",
       "  <div style=\"display: grid; grid-template-columns: repeat(auto-fit, minmax(280px, 1fr)); gap: 20px;\">\n",
       "\n",
       "    <!-- Review Card 1 -->\n",
       "    <div style=\"background:#1a1a1a; border-radius:15px; padding:20px; box-shadow:0 4px 10px rgba(0,0,0,0.4);\">\n",
       "      <p style=\"color:#ffcc00; font-size: 1.2em;\">★★★★★</p>\n",
       "      <h3 style=\"margin:10px 0;\">“Best late-night study fuel.”</h3>\n",
       "      <p style=\"color:#ccc;\">Nomad Noodles has replaced my cheap ramen habit. It’s fast, flavorful, and doesn’t feel like junk food. The Seoul Fire Bulgogi legit tastes like something from a street market.</p>\n",
       "      <p style=\"margin-top:15px; font-style:italic; color:#aaa;\">— Emily R., College Junior</p>\n",
       "    </div>\n",
       "\n",
       "    <!-- Review Card 2 -->\n",
       "    <div style=\"background:#1a1a1a; border-radius:15px; padding:20px; box-shadow:0 4px 10px rgba(0,0,0,0.4);\">\n",
       "      <p style=\"color:#ffcc00; font-size: 1.2em;\">★★★★★</p>\n",
       "      <h3 style=\"margin:10px 0;\">“3 minutes to travel.”</h3>\n",
       "      <p style=\"color:#ccc;\">I never thought instant noodles could actually feel premium, but these do. Every flavor is bold and unique — it’s like traveling without leaving my dorm.</p>\n",
       "      <p style=\"margin-top:15px; font-style:italic; color:#aaa;\">— Jordan K., Graduate Student</p>\n",
       "    </div>\n",
       "\n",
       "    <!-- Review Card 3 -->\n",
       "    <div style=\"background:#1a1a1a; border-radius:15px; padding:20px; box-shadow:0 4px 10px rgba(0,0,0,0.4);\">\n",
       "      <p style=\"color:#ffcc00; font-size: 1.2em;\">★★★★★</p>\n",
       "      <h3 style=\"margin:10px 0;\">“Worth the hype.”</h3>\n",
       "      <p style=\"color:#ccc;\">The packaging is sleek, but the flavor is even better. You can taste the difference in the ingredients. Way more satisfying than regular ramen.</p>\n",
       "      <p style=\"margin-top:15px; font-style:italic; color:#aaa;\">— Sofia L., Designer</p>\n",
       "    </div>\n",
       "\n",
       "    <!-- Review Card 4 -->\n",
       "    <div style=\"background:#1a1a1a; border-radius:15px; padding:20px; box-shadow:0 4px 10px rgba(0,0,0,0.4);\">\n",
       "      <p style=\"color:#ffcc00; font-size: 1.2em;\">★★★★★</p>\n",
       "      <h3 style=\"margin:10px 0;\">“Fast food but aspirational.”</h3>\n",
       "      <p style=\"color:#ccc;\">As someone who loves cooking but doesn’t always have the time, Nomad Noodles hits the sweet spot. It’s fast, feels healthy, and doesn’t taste processed.</p>\n",
       "      <p style=\"margin-top:15px; font-style:italic; color:#aaa;\">— Derrick M., Young Professional</p>\n",
       "    </div>\n",
       "\n",
       "    <!-- Review Card 5 -->\n",
       "    <div style=\"background:#1a1a1a; border-radius:15px; padding:20px; box-shadow:0 4px 10px rgba(0,0,0,0.4);\">\n",
       "      <p style=\"color:#ffcc00; font-size: 1.2em;\">★★★★★</p>\n",
       "      <h3 style=\"margin:10px 0;\">“My go-to after workouts.”</h3>\n",
       "      <p style=\"color:#ccc;\">Quick protein, comforting flavors, and I don’t feel guilty about eating it. Bulgogi is 🔥.</p>\n",
       "      <p style=\"margin-top:15px; font-style:italic; color:#aaa;\">— Alex T., Fitness Enthusiast</p>\n",
       "    </div>\n",
       "\n",
       "  </div>\n",
       "</div>\n"
      ],
      "text/plain": [
       "<IPython.core.display.HTML object>"
      ]
     },
     "metadata": {},
     "output_type": "display_data"
    }
   ],
   "source": [
    "from IPython.display import display, HTML\n",
    "\n",
    "html = \"\"\"\n",
    "<div style=\"font-family: sans-serif; background-color: #111; color: #f5f5f5; padding: 40px;\">\n",
    "  <h2 style=\"text-align:center; color: #d4af37; font-size: 2em; margin-bottom: 30px;\">What People Are Saying</h2>\n",
    "  <div style=\"display: grid; grid-template-columns: repeat(auto-fit, minmax(280px, 1fr)); gap: 20px;\">\n",
    "\n",
    "    <!-- Review Card 1 -->\n",
    "    <div style=\"background:#1a1a1a; border-radius:15px; padding:20px; box-shadow:0 4px 10px rgba(0,0,0,0.4);\">\n",
    "      <p style=\"color:#ffcc00; font-size: 1.2em;\">★★★★★</p>\n",
    "      <h3 style=\"margin:10px 0;\">“Best late-night study fuel.”</h3>\n",
    "      <p style=\"color:#ccc;\">Nomad Noodles has replaced my cheap ramen habit. It’s fast, flavorful, and doesn’t feel like junk food. The Seoul Fire Bulgogi legit tastes like something from a street market.</p>\n",
    "      <p style=\"margin-top:15px; font-style:italic; color:#aaa;\">— Emily R., College Junior</p>\n",
    "    </div>\n",
    "\n",
    "    <!-- Review Card 2 -->\n",
    "    <div style=\"background:#1a1a1a; border-radius:15px; padding:20px; box-shadow:0 4px 10px rgba(0,0,0,0.4);\">\n",
    "      <p style=\"color:#ffcc00; font-size: 1.2em;\">★★★★★</p>\n",
    "      <h3 style=\"margin:10px 0;\">“3 minutes to travel.”</h3>\n",
    "      <p style=\"color:#ccc;\">I never thought instant noodles could actually feel premium, but these do. Every flavor is bold and unique — it’s like traveling without leaving my dorm.</p>\n",
    "      <p style=\"margin-top:15px; font-style:italic; color:#aaa;\">— Jordan K., Graduate Student</p>\n",
    "    </div>\n",
    "\n",
    "    <!-- Review Card 3 -->\n",
    "    <div style=\"background:#1a1a1a; border-radius:15px; padding:20px; box-shadow:0 4px 10px rgba(0,0,0,0.4);\">\n",
    "      <p style=\"color:#ffcc00; font-size: 1.2em;\">★★★★★</p>\n",
    "      <h3 style=\"margin:10px 0;\">“Worth the hype.”</h3>\n",
    "      <p style=\"color:#ccc;\">The packaging is sleek, but the flavor is even better. You can taste the difference in the ingredients. Way more satisfying than regular ramen.</p>\n",
    "      <p style=\"margin-top:15px; font-style:italic; color:#aaa;\">— Sofia L., Designer</p>\n",
    "    </div>\n",
    "\n",
    "    <!-- Review Card 4 -->\n",
    "    <div style=\"background:#1a1a1a; border-radius:15px; padding:20px; box-shadow:0 4px 10px rgba(0,0,0,0.4);\">\n",
    "      <p style=\"color:#ffcc00; font-size: 1.2em;\">★★★★★</p>\n",
    "      <h3 style=\"margin:10px 0;\">“Fast food but aspirational.”</h3>\n",
    "      <p style=\"color:#ccc;\">As someone who loves cooking but doesn’t always have the time, Nomad Noodles hits the sweet spot. It’s fast, feels healthy, and doesn’t taste processed.</p>\n",
    "      <p style=\"margin-top:15px; font-style:italic; color:#aaa;\">— Derrick M., Young Professional</p>\n",
    "    </div>\n",
    "\n",
    "    <!-- Review Card 5 -->\n",
    "    <div style=\"background:#1a1a1a; border-radius:15px; padding:20px; box-shadow:0 4px 10px rgba(0,0,0,0.4);\">\n",
    "      <p style=\"color:#ffcc00; font-size: 1.2em;\">★★★★★</p>\n",
    "      <h3 style=\"margin:10px 0;\">“My go-to after workouts.”</h3>\n",
    "      <p style=\"color:#ccc;\">Quick protein, comforting flavors, and I don’t feel guilty about eating it. Bulgogi is 🔥.</p>\n",
    "      <p style=\"margin-top:15px; font-style:italic; color:#aaa;\">— Alex T., Fitness Enthusiast</p>\n",
    "    </div>\n",
    "\n",
    "  </div>\n",
    "</div>\n",
    "\"\"\"\n",
    "\n",
    "display(HTML(html))\n"
   ]
  },
  {
   "cell_type": "markdown",
   "id": "eecedb43-6db6-4368-92eb-4946b657ce48",
   "metadata": {},
   "source": [
    "# Nourish"
   ]
  },
  {
   "cell_type": "markdown",
   "id": "1c3902a2-2c1e-4d3b-bf74-945769fac670",
   "metadata": {},
   "source": [
    "![](NourishWebpage.png)"
   ]
  },
  {
   "cell_type": "markdown",
   "id": "7b61559f-5850-4d45-ac31-b19f807f3411",
   "metadata": {},
   "source": [
    "![](NourishReview.png)"
   ]
  }
 ],
 "metadata": {
  "kernelspec": {
   "display_name": "Python 3-12 (COMM4190)",
   "language": "python",
   "name": "python3-12_comm4190"
  },
  "language_info": {
   "codemirror_mode": {
    "name": "ipython",
    "version": 3
   },
   "file_extension": ".py",
   "mimetype": "text/x-python",
   "name": "python",
   "nbconvert_exporter": "python",
   "pygments_lexer": "ipython3",
   "version": "3.12.11"
  }
 },
 "nbformat": 4,
 "nbformat_minor": 5
}
